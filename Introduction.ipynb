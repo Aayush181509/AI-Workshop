{
 "cells": [
  {
   "cell_type": "markdown",
   "metadata": {},
   "source": [
    "<div style=\"display: flex;\">\n",
    "    <img src=\"images/AI-DL-ML.png\" alt=\"Image 1\" style=\"flex: 1; width: auto; height: auto; max-width: 50%;\">\n",
    "    <img src=\"images/Machine_Learning.png\" alt=\"Image 2\" style=\"flex: 1; width: auto; height: auto; max-width: 50%;\">\n",
    "</div>\n"
   ]
  },
  {
   "cell_type": "markdown",
   "metadata": {},
   "source": [
    "Conventional Programming -> you define a model as a set of rules</br>\n",
    "\n",
    "Machine Learning -> model itself learns a set of rules\n"
   ]
  },
  {
   "cell_type": "code",
   "execution_count": 3,
   "metadata": {},
   "outputs": [
    {
     "name": "stdout",
     "output_type": "stream",
     "text": [
      "Odd\n"
     ]
    }
   ],
   "source": [
    "# Conventional Programming\n",
    "def even(number):\n",
    "    if number%2==0:\n",
    "        return \"Even\"\n",
    "    else:\n",
    "        return \"Odd\"\n",
    "print(even(7))"
   ]
  },
  {
   "cell_type": "markdown",
   "metadata": {},
   "source": [
    "Experience, Tasks, Performance\n",
    "Machine Learns from Experience E on some Tasks T with Performance Measure P if it's performance on Tasks T improves with Experience E."
   ]
  },
  {
   "cell_type": "markdown",
   "metadata": {},
   "source": [
    "Data:\n",
    "  - Keep in mind:\n",
    "    - data you select for training a model must be a good representative of the data you want the model to generalize to\n",
    "    - You cannot train a model on the data of Nepalese and hope for it to predict the life expectancy of Americans.\n",
    "\n",
    "Model (Representation)\n",
    "- Linear Regression, Logistic Regression, Support Vector Machines, KMeans etc\n",
    "\n",
    "Different Models are required for different problems\n",
    "- Selecting a proper model is selecting a proper representation for your Data\n",
    "  - For linear line Y=w.T*x +b (y=mx+c)\n",
    "  - For Hyperplace Support Vector Machines\n",
    "  - For Probability Distrubution Probabilistic Methods\n",
    "  \n",
    "\n",
    "Learning:\n",
    "- To check if the model is a correct representation of a data or not\n",
    "- Objective Functions : Mean Squared error, Log Loss\n",
    "- Optimization Techniques : Gradient Descent\n",
    "\n",
    "\n",
    "Data, model, learning, and application are the four main components of any Machine Learning problem.\n",
    "\n"
   ]
  },
  {
   "cell_type": "markdown",
   "metadata": {},
   "source": [
    "**Example**\n",
    "\n",
    "Now let's understand the components of machine learning better by breaking down a machine learning problem into its components. Consider a classification problem of classifying whether or not a customer buys a particular product. There are 1000 labeled samples of customers. We select logistic regression as our model. Now comes the learning part. We define the objective function to be the log loss function. We will use gradient descent to optimize this objective function. Then we will use accuracy to evaluate the performance of our model on new data. Finally, we will apply this machine learning model to predict if a customer will buy the product or not.\n",
    "\n",
    "The components of this machine learning problem are:\n"
   ]
  },
  {
   "cell_type": "markdown",
   "metadata": {},
   "source": [
    "**Data**: 1000 labeled samples of customers\n",
    "\n",
    "**Model**: Logistic regression\n",
    "\n",
    "**Learning**\n",
    "\n",
    "  - Objective: Log-loss\n",
    "  - Optimization: Gradient descent\n",
    "  - Evaluation: Accuracy\n",
    "\n",
    "**Application**: Predicting if a customer will buy the product or not"
   ]
  },
  {
   "cell_type": "markdown",
   "metadata": {},
   "source": [
    "**Types of Machine Learning**\n",
    "1. Supervised Machine Learning : Machine Learns from Training Data"
   ]
  },
  {
   "cell_type": "markdown",
   "metadata": {},
   "source": [
    "<img src=\"images/supervised.png\" breadth=\"500\">"
   ]
  },
  {
   "cell_type": "markdown",
   "metadata": {},
   "source": [
    "2. Unsupervised Machine Learning : No Training Data required "
   ]
  },
  {
   "cell_type": "markdown",
   "metadata": {},
   "source": [
    "<img src=\"images/unsupervised.png\">"
   ]
  },
  {
   "cell_type": "markdown",
   "metadata": {},
   "source": [
    "3. Reinforcement Learning : Machine Learns on it's own"
   ]
  },
  {
   "cell_type": "markdown",
   "metadata": {},
   "source": [
    "<img src=\"images/reinforcement.png\">"
   ]
  },
  {
   "cell_type": "markdown",
   "metadata": {},
   "source": [
    "Model-Based vs. Instance-Based\n",
    "<div style=\"display: flex;\">\n",
    "    <img src=\"images/model_based.png\" alt=\"Image 1\" style=\"flex: 1; width: auto; height: auto; max-width: 50%;\">\n",
    "    <img src=\"images/instance_based.png\" alt=\"Image 2\" style=\"flex: 1; width: auto; height: auto; max-width: 50%;\">\n",
    "</div>\n",
    "Logistic Regression |  KNN"
   ]
  },
  {
   "cell_type": "markdown",
   "metadata": {},
   "source": [
    "<div style=\"text-align:center\">\n",
    "Parametric VS Non- Parametric <br/>\n",
    "\n",
    "Probabilistic VS Non Probabilistic"
   ]
  },
  {
   "cell_type": "code",
   "execution_count": null,
   "metadata": {},
   "outputs": [],
   "source": []
  }
 ],
 "metadata": {
  "kernelspec": {
   "display_name": "fuseenv",
   "language": "python",
   "name": "python3"
  },
  "language_info": {
   "codemirror_mode": {
    "name": "ipython",
    "version": 3
   },
   "file_extension": ".py",
   "mimetype": "text/x-python",
   "name": "python",
   "nbconvert_exporter": "python",
   "pygments_lexer": "ipython3",
   "version": "3.7.16"
  }
 },
 "nbformat": 4,
 "nbformat_minor": 2
}
